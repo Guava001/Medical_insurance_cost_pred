{
 "cells": [
  {
   "cell_type": "code",
   "execution_count": 1,
   "id": "cbffe97d",
   "metadata": {},
   "outputs": [],
   "source": [
    "import pickle\n",
    "import numpy as np\n",
    "import pandas as pd"
   ]
  },
  {
   "cell_type": "code",
   "execution_count": 2,
   "id": "e5af6824",
   "metadata": {},
   "outputs": [],
   "source": [
    "pipe = pickle.load(open('pipe.pkl','rb'))"
   ]
  },
  {
   "cell_type": "code",
   "execution_count": 3,
   "id": "d79e27b8",
   "metadata": {},
   "outputs": [],
   "source": [
    "#assume user input\n",
    "test_input1= np.array([60,female,36.005,0,no,'northeast'],dtype= object).reshape(1,-1)"
   ]
  },
  {
   "cell_type": "code",
   "execution_count": 4,
   "id": "42884c48",
   "metadata": {},
   "outputs": [],
   "source": [
    "# Create a DataFrame with appropriate feature names\n",
    "columns = ['age', 'sex', 'bmi', 'children', 'smoker', 'region']\n",
    "test_input1_df = pd.DataFrame(test_input1, columns=columns)"
   ]
  },
  {
   "cell_type": "code",
   "execution_count": 5,
   "id": "ab010a75",
   "metadata": {
    "scrolled": true
   },
   "outputs": [],
   "source": [
    "p=pipe.predict(test_input1_df)"
   ]
  },
  {
   "cell_type": "code",
   "execution_count": 6,
   "id": "f1aa4117",
   "metadata": {},
   "outputs": [
    {
     "name": "stdout",
     "output_type": "stream",
     "text": [
      "The insurance cost in USD 35525.9283060779\n"
     ]
    }
   ],
   "source": [
    "print('The insurance cost in USD', p[0])"
   ]
  },
  {
   "cell_type": "code",
   "execution_count": null,
   "id": "fe8fe9d1",
   "metadata": {},
   "outputs": [],
   "source": []
  }
 ],
 "metadata": {
  "kernelspec": {
   "display_name": "Python 3 (ipykernel)",
   "language": "python",
   "name": "python3"
  },
  "language_info": {
   "codemirror_mode": {
    "name": "ipython",
    "version": 3
   },
   "file_extension": ".py",
   "mimetype": "text/x-python",
   "name": "python",
   "nbconvert_exporter": "python",
   "pygments_lexer": "ipython3",
   "version": "3.11.5"
  }
 },
 "nbformat": 4,
 "nbformat_minor": 5
}
